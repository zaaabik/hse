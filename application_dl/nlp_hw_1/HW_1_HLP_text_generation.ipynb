{
  "nbformat": 4,
  "nbformat_minor": 0,
  "metadata": {
    "colab": {
      "provenance": []
    },
    "kernelspec": {
      "name": "python3",
      "display_name": "Python 3"
    },
    "language_info": {
      "name": "python"
    },
    "accelerator": "GPU",
    "gpuClass": "standard"
  },
  "cells": [
    {
      "cell_type": "markdown",
      "source": [
        "<a href=\"https://colab.research.google.com/github/zaaabik/hse/blob/master/application_dl/nlp_hw_1/HW_1_HLP_text_generation.ipynb\" target=\"_parent\"><img src=\"https://colab.research.google.com/assets/colab-badge.svg\" alt=\"Open In Colab\"/></a>"
      ],
      "metadata": {
        "id": "L9G-T_lH-uUe"
      }
    },
    {
      "cell_type": "markdown",
      "source": [
        "## Генерация текста"
      ],
      "metadata": {
        "id": "NKJn4ppPDFlr"
      }
    },
    {
      "cell_type": "markdown",
      "source": [
        "В первом домашнем задании мы с вами попробуем побыть писателями. Ваша задача построить алгоритм, который будет генерировать текст похожий на текст какого-либо известного писателя.\n",
        "\n",
        "**Задание** \n",
        "\n",
        "N-gram model (3 балла)\n",
        "* Препроцессинг текста с помощью NLTK (или любой подобной библиотеки)\n",
        "* Разбиение train/test\n",
        "* Построить модель на основе n-gram на train выборке\n",
        "* Сгенерировать текст и посмотреть качество генерации на test выборки (perplexity)\n",
        "\n",
        "GPT2 (5 баллов)\n",
        "* Разбиение train/test\n",
        "* Взять предобученый токенайзер gpt2\n",
        "* Дообучить модель на основе gpt2 train выборка\n",
        "* Сгенерировать текст и посмотреть качество генерации на test выборки (perplexity)\n",
        "* Отправить ссылку на обученную модель в формате *ваш_ник*/gpt2-arxiv-clm\n"
      ],
      "metadata": {
        "id": "2yv-G1r-Cbc3"
      }
    },
    {
      "cell_type": "markdown",
      "source": [
        "!! **Большинство кода уже написано в семинаре Language_modeling_solved.ipynb** !!"
      ],
      "metadata": {
        "id": "Dceds_zjHZjJ"
      }
    },
    {
      "cell_type": "markdown",
      "source": [
        "### Найти текст\n",
        "Первый шаг для построения любой модели машинного обучения это поиск данных. Вам необходимо найти корпус текста писателя (на английском языке). Размер источника произвольный, но чем больше тем лучше. Желательно найти книгу или набор книг в текстовом формате."
      ],
      "metadata": {
        "id": "D-9ru6CZDEuP"
      }
    },
    {
      "cell_type": "code",
      "source": [
        "### Загрузка текста из источника"
      ],
      "metadata": {
        "id": "tsuUH86mDNSP"
      },
      "execution_count": null,
      "outputs": []
    },
    {
      "cell_type": "markdown",
      "source": [
        "## N-gram language models \n",
        "По анологии с семинаром где мы пытались генерировать тексты научных статей мы сделаем предобработку текста. В зависимости от источника которым вы пользуетесь \n",
        "* Убираем мусор из текста\n",
        "* Исключаем стоп слова\n",
        "* Применяем токкенизатор "
      ],
      "metadata": {
        "id": "KRWJYvQrDzMJ"
      }
    },
    {
      "cell_type": "code",
      "source": [
        "lines = <todo> #List[str] лист строчек где каждый элемент является строкой"
      ],
      "metadata": {
        "id": "2_wJIvNRKeyw"
      },
      "execution_count": 2,
      "outputs": []
    },
    {
      "cell_type": "code",
      "source": [
        "tokenizer = <todo>\n",
        "n_gramm_lines = # применить токенезатор"
      ],
      "metadata": {
        "id": "yVafa3LCKfR1"
      },
      "execution_count": null,
      "outputs": []
    },
    {
      "cell_type": "markdown",
      "source": [
        "### Обучение\n",
        "Далее обучаем n-gram модель для получения вероятностей цепочек слов "
      ],
      "metadata": {
        "id": "1r7GaLQxEwdL"
      }
    },
    {
      "cell_type": "markdown",
      "source": [
        "### N-Gram Language Model\n",
        "\n",
        "A language model is a probabilistic model that estimates text probability: the joint probability of all tokens $w_t$ in text $X$: $P(X) = P(w_1, \\dots, w_T)$.\n",
        "\n",
        "It can do so by following the chain rule:\n",
        "$$P(w_1, \\dots, w_T) = P(w_1)P(w_2 \\mid w_1)\\dots P(w_T \\mid w_1, \\dots, w_{T-1}).$$ \n",
        "\n",
        "The problem with such approach is that the final term $P(w_T \\mid w_1, \\dots, w_{T-1})$ depends on $n-1$ previous words. This probability is impractical to estimate for long texts, e.g. $T = 1000$.\n",
        "\n",
        "One popular approximation is to assume that next word only depends on a finite amount of previous words:\n",
        "\n",
        "$$P(w_t \\mid w_1, \\dots, w_{t - 1}) = P(w_t \\mid w_{t - n + 1}, \\dots, w_{t - 1})$$\n",
        "\n",
        "Such model is called __n-gram language model__ where n is a parameter. For example, in 3-gram language model, each word only depends on 2 previous words. \n",
        "\n",
        "$$\n",
        "    P(w_1, \\dots, w_n) = \\prod_t P(w_t \\mid w_{t - n + 1}, \\dots, w_{t - 1}).\n",
        "$$\n",
        "\n",
        "You can also sometimes see such approximation under the name of _n-th order markov assumption_."
      ],
      "metadata": {
        "id": "Fi4f5EefJST5"
      }
    },
    {
      "cell_type": "code",
      "source": [
        "### Тут необходимо описать класс для подсчета вероятностей n-gram модели"
      ],
      "metadata": {
        "id": "7JwZuOekJVrM"
      },
      "execution_count": null,
      "outputs": []
    },
    {
      "cell_type": "code",
      "source": [
        "from tqdm import tqdm\n",
        "from collections import defaultdict, Counter\n",
        "\n",
        "# special tokens: \n",
        "# - unk represents absent tokens, \n",
        "# - eos is a special token after the end of sequence\n",
        "\n",
        "UNK, EOS = \"_UNK_\", \"_EOS_\"\n",
        "\n",
        "def count_ngrams(lines, n):\n",
        "    \"\"\"\n",
        "    Count how many times each word occured after (n - 1) previous words\n",
        "    :param lines: an iterable of strings with space-separated tokens\n",
        "    :returns: a dictionary { tuple(prefix_tokens): {next_token_1: count_1, next_token_2: count_2}}\n",
        "\n",
        "    When building counts, please consider the following two edge cases\n",
        "    - if prefix is shorter than (n - 1) tokens, it should be padded with UNK. For n=3,\n",
        "      empty prefix: \"\" -> (UNK, UNK)\n",
        "      short prefix: \"the\" -> (UNK, the)\n",
        "      long prefix: \"the new approach\" -> (new, approach)\n",
        "    - you should add a special token, EOS, at the end of each sequence\n",
        "      \"... with deep neural networks .\" -> (..., with, deep, neural, networks, ., EOS)\n",
        "      count the probability of this token just like all others.\n",
        "    \"\"\"\n",
        "    counts = defaultdict(Counter)\n",
        "    # counts[(word1, word2)][word3] = how many times word3 occured after (word1, word2)\n",
        "\n",
        "    <YOUR CODE>\n",
        "    \n",
        "    return counts\n"
      ],
      "metadata": {
        "colab": {
          "base_uri": "https://localhost:8080/",
          "height": 133
        },
        "id": "wER7YjDbJ21X",
        "outputId": "15893bd5-6efa-49d6-944f-ab63596b0126"
      },
      "execution_count": null,
      "outputs": [
        {
          "output_type": "error",
          "ename": "SyntaxError",
          "evalue": "ignored",
          "traceback": [
            "\u001b[0;36m  File \u001b[0;32m\"<ipython-input-9-45892e2e8f63>\"\u001b[0;36m, line \u001b[0;32m28\u001b[0m\n\u001b[0;31m    <YOUR CODE>\u001b[0m\n\u001b[0m    ^\u001b[0m\n\u001b[0;31mSyntaxError\u001b[0m\u001b[0;31m:\u001b[0m invalid syntax\n"
          ]
        }
      ]
    },
    {
      "cell_type": "code",
      "source": [
        "# let's test it\n",
        "dummy_lines = sorted(lines, key=len)[:100]\n",
        "dummy_counts = count_ngrams(dummy_lines, n=3)"
      ],
      "metadata": {
        "id": "ZEeXRhE6J8NR"
      },
      "execution_count": null,
      "outputs": []
    },
    {
      "cell_type": "code",
      "source": [
        "dummy_counts[('_UNK_', 'a')]"
      ],
      "metadata": {
        "id": "uWu7v6xnJ6c1"
      },
      "execution_count": null,
      "outputs": []
    },
    {
      "cell_type": "markdown",
      "source": [
        "Once we can count N-grams, we can build a probabilistic language model.\n",
        "The simplest way to compute probabilities is in proporiton to counts:\n",
        "\n",
        "$$ P(w_t | prefix) = { Count(prefix, w_t) \\over \\sum_{\\hat w} Count(prefix, \\hat w) } $$"
      ],
      "metadata": {
        "id": "A8ZgczGeKvT_"
      }
    },
    {
      "cell_type": "code",
      "source": [
        "class NGramLanguageModel:    \n",
        "    def __init__(self, lines, n):\n",
        "        \"\"\" \n",
        "        Train a simple count-based language model: \n",
        "        compute probabilities P(w_t | prefix) given ngram counts\n",
        "        \n",
        "        :param n: computes probability of next token given (n - 1) previous words\n",
        "        :param lines: an iterable of strings with space-separated tokens\n",
        "        \"\"\"\n",
        "        assert n >= 1\n",
        "        self.n = n\n",
        "    \n",
        "        counts = count_ngrams(lines, self.n)\n",
        "        \n",
        "        # compute token proabilities given counts\n",
        "        self.probs = defaultdict(Counter)\n",
        "        # probs[(word1, word2)][word3] = P(word3 | word1, word2)\n",
        "        \n",
        "        # populate self.probs with actual probabilities\n",
        "        <YOUR CODE>\n",
        "            \n",
        "    def get_possible_next_tokens(self, prefix):\n",
        "        \"\"\"\n",
        "        :param prefix: string with space-separated prefix tokens\n",
        "        :returns: a dictionary {token : it's probability} for all tokens with positive probabilities\n",
        "        \"\"\"\n",
        "        prefix = prefix.split()\n",
        "        prefix = prefix[max(0, len(prefix) - self.n + 1):]\n",
        "        prefix = [ UNK ] * (self.n - 1 - len(prefix)) + prefix\n",
        "        return self.probs[tuple(prefix)]\n",
        "    \n",
        "    def get_next_token_prob(self, prefix, next_token):\n",
        "        \"\"\"\n",
        "        :param prefix: string with space-separated prefix tokens\n",
        "        :param next_token: the next token to predict probability for\n",
        "        :returns: P(next_token|prefix) a single number, 0 <= P <= 1\n",
        "        \"\"\"\n",
        "        return self.get_possible_next_tokens(prefix).get(next_token, 0)"
      ],
      "metadata": {
        "id": "kRuZVz8uKtMR"
      },
      "execution_count": null,
      "outputs": []
    },
    {
      "cell_type": "markdown",
      "source": [
        "The process of generating sequences is... well, it's sequential. You maintain a list of tokens and iteratively add next token by sampling with probabilities.\n",
        "\n",
        "$ X = [] $\n",
        "\n",
        "__forever:__\n",
        "* $w_{next} \\sim P(w_{next} | X)$\n",
        "* $X = concat(X, w_{next})$\n",
        "\n",
        "\n",
        "Instead of sampling with probabilities, one can also try always taking most likely token, sampling among top-K most likely tokens or sampling with temperature. In the latter case (temperature), one samples from\n",
        "\n",
        "$$w_{next} \\sim {P(w_{next} | X) ^ {1 / \\tau} \\over \\sum_{\\hat w} P(\\hat w | X) ^ {1 / \\tau}}$$\n",
        "\n",
        "Where $\\tau > 0$ is model temperature. If $\\tau << 1$, more likely tokens will be sampled with even higher probability while less likely tokens will vanish."
      ],
      "metadata": {
        "id": "3Ccw6IZHK4ay"
      }
    },
    {
      "cell_type": "code",
      "source": [
        "### Обучение n-gram модели"
      ],
      "metadata": {
        "id": "SyKfJzObJcUB"
      },
      "execution_count": null,
      "outputs": []
    },
    {
      "cell_type": "code",
      "source": [
        "def get_next_token(lm, prefix, temperature=1.0):\n",
        "    \"\"\"\n",
        "    return next token after prefix;\n",
        "    :param temperature: samples proportionally to lm probabilities ^ (1 / temperature)\n",
        "        if temperature == 0, always takes most likely token. Break ties arbitrarily.\n",
        "    \"\"\"\n",
        "    <YOUR CODE>"
      ],
      "metadata": {
        "id": "3yaJONDvK6kG"
      },
      "execution_count": null,
      "outputs": []
    },
    {
      "cell_type": "markdown",
      "source": [
        "## Подсчет Perplexity"
      ],
      "metadata": {
        "id": "22IpH8TqFN2q"
      }
    },
    {
      "cell_type": "markdown",
      "source": [
        "### Evaluating language models: perplexity\n",
        "\n",
        "Perplexity is a measure of how well does your model approximate true probability distribution behind data. __Smaller perplexity = better model__.\n",
        "\n",
        "To compute perplexity on one sentence, use:\n",
        "$$\n",
        "    {\\mathbb{P}}(w_1 \\dots w_N) = P(w_1, \\dots, w_N)^{-\\frac1N} = \\left( \\prod_t P(w_t \\mid w_{t - n}, \\dots, w_{t - 1})\\right)^{-\\frac1N},\n",
        "$$\n",
        "\n",
        "\n",
        "On the corpora level, perplexity is a product of probabilities of all tokens in all sentences to the power of 1, divided by __total length of all sentences__ in corpora.\n",
        "\n",
        "This number can quickly get too small for float32/float64 precision, so we recommend you to first compute log-perplexity (from log-probabilities) and then take the exponent."
      ],
      "metadata": {
        "id": "38lDf3L7JN71"
      }
    },
    {
      "cell_type": "code",
      "source": [
        "### Пример из семинара \n",
        "import numpy as np \n",
        "def perplexity(lm, lines, min_logprob=np.log(10 ** -7.)):\n",
        "    \"\"\"\n",
        "    :param lines: a list of strings with space-separated tokens\n",
        "    :param min_logprob: if log(P(w | ...)) is smaller than min_logprop, set it equal to min_logrob\n",
        "    :returns: corpora-level perplexity - a single scalar number from the formula above\n",
        "    \n",
        "    Note: do not forget to compute P(w_first | empty) and P(eos | full_sequence)\n",
        "    \n",
        "    PLEASE USE lm.get_next_token_prob and NOT lm.get_possible_next_tokens\n",
        "    \"\"\"\n",
        "    total_length = 0\n",
        "    log_pp = 0\n",
        "\n",
        "    for line in tqdm(lines):\n",
        "        tokens = [''] + line.split(' ') + [EOS]\n",
        "\n",
        "        for t in range(1, len(tokens)):\n",
        "            prefix = ' '.join(tokens[:t])\n",
        "            log_pp += max(\n",
        "                min_logprob, np.log(lm.get_next_token_prob(prefix, tokens[t]))\n",
        "            )\n",
        "            total_length += 1\n",
        "    \n",
        "    return np.exp(-( 1 / total_length) * log_pp)\n",
        "\n"
      ],
      "metadata": {
        "id": "JeaaDRFtFRDe"
      },
      "execution_count": null,
      "outputs": []
    },
    {
      "cell_type": "code",
      "source": [
        "from sklearn.model_selection import train_test_split\n",
        "train_lines, test_lines = train_test_split(n_gramm_lines, test_size=0.25, random_state=42)\n",
        "\n",
        "n = 2\n",
        "lm = NGramLanguageModel(n=n, lines=train_lines)\n",
        "\n",
        "ppx = perplexity(lm, test_lines)\n",
        "print(\"N = %i, Perplexity = %.5f\" % (n, ppx))\n"
      ],
      "metadata": {
        "id": "AanUruONL5Uw"
      },
      "execution_count": null,
      "outputs": []
    },
    {
      "cell_type": "markdown",
      "source": [
        "### Пример генерации текста"
      ],
      "metadata": {
        "id": "PCPekVu_Gc4L"
      }
    },
    {
      "cell_type": "code",
      "source": [
        "def get_next_token(lm, prefix, temperature=1.0):\n",
        "    # <todo>\n",
        "    \n",
        "prefix = 'The long story short' # Придумайте первые несколько слов для вашего рассказа\n",
        "\n",
        "for i in range(100):\n",
        "    prefix += ' ' + get_next_token(lm, prefix, temperature=0.5)\n",
        "    if prefix.endswith(EOS) or len(lm.get_possible_next_tokens(prefix)) == 0:\n",
        "        break\n",
        "        \n",
        "print(prefix)"
      ],
      "metadata": {
        "id": "EBFXG0VMGfqP"
      },
      "execution_count": null,
      "outputs": []
    },
    {
      "cell_type": "markdown",
      "source": [
        "Текст должен напоминать что-то осознанное"
      ],
      "metadata": {
        "id": "Q6l0MZWSLQqy"
      }
    },
    {
      "cell_type": "markdown",
      "source": [
        "## Генерация с помощью нейронных сетей"
      ],
      "metadata": {
        "id": "J21tWpAFF6B4"
      }
    },
    {
      "cell_type": "markdown",
      "source": [
        "По аналогии с семинаром, будем использова библиотеку transformers и предобученную модель gpt2."
      ],
      "metadata": {
        "id": "6TnXKXeFGL-d"
      }
    },
    {
      "cell_type": "code",
      "source": [
        "!pip install datasets transformers"
      ],
      "metadata": {
        "id": "uUMCwEG2F-Xv"
      },
      "execution_count": null,
      "outputs": []
    },
    {
      "cell_type": "markdown",
      "source": [
        "В конце необходимо запушить модель на сайт huggingface, для этого необходимо получить токен\n",
        "https://huggingface.co/docs/hub/security-tokens"
      ],
      "metadata": {
        "id": "zm_HUExVG30v"
      }
    },
    {
      "cell_type": "code",
      "source": [
        "!huggingface-cli login --token <TODO>"
      ],
      "metadata": {
        "id": "tzmOKw0XGvuY"
      },
      "execution_count": null,
      "outputs": []
    },
    {
      "cell_type": "code",
      "source": [
        "# Загружаем данные еще раз без какого-либо препроцессинга так как будем использовать готовый токенайзер"
      ],
      "metadata": {
        "id": "C276004vGURM"
      },
      "execution_count": null,
      "outputs": []
    },
    {
      "cell_type": "code",
      "source": [
        "clm_model_checkpoint = \"gpt2\"\n",
        "clm_tokenizer_checkpoint = \"gpt2\"\n",
        "\n",
        "from transformers import GPT2Tokenizer, AutoModelForCausalLM\n",
        "tokenizer = GPT2Tokenizer.from_pretrained('gpt2')\n",
        "model = AutoModelForCausalLM.from_pretrained('gpt2')"
      ],
      "metadata": {
        "id": "h95Br73cGu0X"
      },
      "execution_count": null,
      "outputs": []
    },
    {
      "cell_type": "markdown",
      "source": [
        "Датасет можно можно не подвергать никакой обработке, так как в дальнейшем мы будем использовать предобученый токенайзер \n",
        "``` python\n",
        "tokenizer = GPT2Tokenizer.from_pretrained('gpt2')\n",
        "```"
      ],
      "metadata": {
        "id": "EWH-42rj3CwU"
      }
    },
    {
      "cell_type": "code",
      "source": [
        "lines = <todo> # Датасет тут можно не использовать никакой токенайзер так как в дальн"
      ],
      "metadata": {
        "id": "o_LMUg3n20H0"
      },
      "execution_count": null,
      "outputs": []
    },
    {
      "cell_type": "code",
      "source": [
        "train, valid = train_test_split(lines, test_size=0.2)\n",
        "lm_datasets = {'train' : train, 'valid' : valid}"
      ],
      "metadata": {
        "id": "xlu06uPU2zQO"
      },
      "execution_count": null,
      "outputs": []
    },
    {
      "cell_type": "code",
      "source": [
        "### todo обучение модели подготовка датасетов для CausalLM\n",
        "## Все есть в ноутбуке Language_modeling_solved"
      ],
      "metadata": {
        "id": "2D-jm84OHUK6"
      },
      "execution_count": null,
      "outputs": []
    },
    {
      "cell_type": "code",
      "source": [
        "training_args = TrainingArguments(\n",
        "    f\"gpt2-author-clm\",\n",
        "    evaluation_strategy = \"epoch\",\n",
        "    learning_rate=2e-5,\n",
        "    weight_decay=0.01,\n",
        "    push_to_hub=True\n",
        ")"
      ],
      "metadata": {
        "id": "sByVv5hBHqUI"
      },
      "execution_count": null,
      "outputs": []
    },
    {
      "cell_type": "code",
      "source": [
        "trainer = Trainer(\n",
        "    model=model,\n",
        "    args=training_args,\n",
        "    train_dataset=lm_datasets['train'],\n",
        "    eval_dataset=lm_datasets['test'],\n",
        ")"
      ],
      "metadata": {
        "id": "yVUfOTbSHXpq"
      },
      "execution_count": null,
      "outputs": []
    },
    {
      "cell_type": "code",
      "source": [
        "trainer.train()"
      ],
      "metadata": {
        "id": "CesVLmm4Hl6H"
      },
      "execution_count": null,
      "outputs": []
    },
    {
      "cell_type": "code",
      "source": [
        "import math\n",
        "eval_results = trainer.evaluate()\n",
        "print(f\"Perplexity: {math.exp(eval_results['eval_loss']):.2f}\")"
      ],
      "metadata": {
        "id": "Uy4jcMeXHz03"
      },
      "execution_count": null,
      "outputs": []
    },
    {
      "cell_type": "code",
      "source": [
        "tokenizer.push_to_hub(\n",
        "    'gpt2-author-clm'\n",
        ")"
      ],
      "metadata": {
        "id": "7PePtUj5H000"
      },
      "execution_count": null,
      "outputs": []
    },
    {
      "cell_type": "markdown",
      "source": [
        "### Генерация текста готовой моделью"
      ],
      "metadata": {
        "id": "ahEuArD_H5Me"
      }
    },
    {
      "cell_type": "code",
      "source": [
        "# сюда нужно вставить ваш ник из huggingface \n",
        "nick_name = <todo>"
      ],
      "metadata": {
        "id": "kh6Fc74FIGBx"
      },
      "execution_count": null,
      "outputs": []
    },
    {
      "cell_type": "code",
      "source": [
        "from transformers import pipeline\n",
        "generator = pipeline(\n",
        "    'text-generation', \n",
        "    model = f'{nick_name}/gpt2-author-clm',\n",
        "    tokenizer = tokenizer\n",
        ")"
      ],
      "metadata": {
        "id": "WIC8Z0UqH78e"
      },
      "execution_count": null,
      "outputs": []
    },
    {
      "cell_type": "code",
      "source": [
        "generator('The long story short')"
      ],
      "metadata": {
        "id": "yd6pThNNIRUx"
      },
      "execution_count": null,
      "outputs": []
    },
    {
      "cell_type": "markdown",
      "source": [
        "После выполнения домашнего задания необходимо отправить ноутбук мне в телеграм: @zaaabik\n",
        "\n",
        "Также туда выслать ссылку на модель в huggingface в формате: \\*ваш_ник\\*/gpt2-arxiv-clm"
      ],
      "metadata": {
        "id": "qSkvS7qrIypW"
      }
    }
  ]
}